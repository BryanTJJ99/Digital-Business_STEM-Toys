{
 "cells": [
  {
   "cell_type": "code",
   "execution_count": 34,
   "id": "18abbd42",
   "metadata": {},
   "outputs": [],
   "source": [
    "# import the necessary libraries\n",
    "# ------------------------------\n",
    "import pandas as pd\n",
    "import numpy as np\n",
    "from sklearn.linear_model import LogisticRegression\n",
    "from sklearn.metrics import accuracy_score, confusion_matrix, classification_report, ConfusionMatrixDisplay\n",
    "from sklearn.preprocessing import MinMaxScaler\n",
    "from sklearn.feature_selection import RFE\n",
    "from sklearn.model_selection import train_test_split, GridSearchCV\n",
    "import pickle\n",
    "from datetime import date\n",
    "from datetime import datetime"
   ]
  },
  {
   "cell_type": "code",
   "execution_count": 35,
   "id": "869518b0",
   "metadata": {},
   "outputs": [
    {
     "name": "stdout",
     "output_type": "stream",
     "text": [
      "<class 'pandas.core.frame.DataFrame'>\n",
      "RangeIndex: 1000 entries, 0 to 999\n",
      "Data columns (total 10 columns):\n",
      " #   Column                                Non-Null Count  Dtype         \n",
      "---  ------                                --------------  -----         \n",
      " 0   Customer ID                           1000 non-null   int64         \n",
      " 1   Customer Type                         1000 non-null   object        \n",
      " 2   Customer Age                          1000 non-null   int64         \n",
      " 3   Child Age                             1000 non-null   int64         \n",
      " 4   Last Website Visit                    1000 non-null   datetime64[ns]\n",
      " 5   Last App visit                        1000 non-null   datetime64[ns]\n",
      " 6   Latest Satisfaction Rating            1000 non-null   int64         \n",
      " 7   Total Transactions Made               1000 non-null   int64         \n",
      " 8   Time Spent on App in Minutes(Yearly)  1000 non-null   float64       \n",
      " 9   Likely To Be Churned                  0 non-null      float64       \n",
      "dtypes: datetime64[ns](2), float64(2), int64(5), object(1)\n",
      "memory usage: 78.2+ KB\n"
     ]
    }
   ],
   "source": [
    "df = pd.read_excel('customer_experience.xlsx', sheet_name=\"Churn\")\n",
    "df.info()"
   ]
  },
  {
   "cell_type": "code",
   "execution_count": null,
   "metadata": {},
   "outputs": [],
   "source": []
  },
  {
   "cell_type": "code",
   "execution_count": 41,
   "id": "3b782293",
   "metadata": {},
   "outputs": [],
   "source": [
    "today = date.today()\n",
    "last_web_visit = []\n",
    "last_app_visit = []\n",
    "\n",
    "for index, row in df.iterrows():\n",
    "    last_web_visit.append((today - row[\"Last Website Visit\"].date()).days)\n",
    "    last_app_visit.append((today - row[\"Last App visit\"].date()).days)\n",
    "\n",
    "df[\"Last Website Visit\"] = last_web_visit\n",
    "df[\"Last App visit\"] = last_app_visit"
   ]
  },
  {
   "cell_type": "code",
   "execution_count": 42,
   "id": "fec04a7d",
   "metadata": {},
   "outputs": [],
   "source": [
    "### Label the data manually \n",
    "probability = []\n",
    "churned_actual = []\n",
    "\n",
    "for index, row in df.iterrows():\n",
    "    prob = 0\n",
    "    if row[\"Child Age\"] >= 9:\n",
    "        prob += 1\n",
    "    if row[\"Customer Type\"] == \"Newcomer\":\n",
    "        prob += 2\n",
    "    if row[\"Last Website Visit\"] > 730:\n",
    "        prob += 3\n",
    "    elif row[\"Last App visit\"] > 730:\n",
    "        prob += 2\n",
    "    elif row[\"Latest Satisfaction Rating\"] < 4:\n",
    "        prob += 1\n",
    "    if row[\"Total Transactions Made\"] < 3:\n",
    "        prob += 1\n",
    "    if row[\"Time Spent on App in Minutes(Yearly)\"] < 500:\n",
    "        prob += 2\n",
    "    probability.append(prob)\n",
    "\n",
    "for prob in probability: \n",
    "    if prob > 6:\n",
    "        churned_actual.append(True)\n",
    "    else:\n",
    "        churned_actual.append(False)\n",
    "        \n",
    "df[\"probability\"] = probability\n",
    "df[\"churned_actual\"] = churned_actual"
   ]
  },
  {
   "cell_type": "code",
   "execution_count": 44,
   "id": "b2b366b8",
   "metadata": {},
   "outputs": [
    {
     "name": "stdout",
     "output_type": "stream",
     "text": [
      "(1000, 8) (1000,)\n"
     ]
    }
   ],
   "source": [
    "# Separate input (X) and target (y) dataframes\n",
    "# --------------------------------------------\n",
    "\n",
    "X = df.drop(['churned_actual', 'Customer ID', 'probability', \"Likely To Be Churned\"], axis=1)\n",
    "y = df['churned_actual']\n",
    "\n",
    "print(X.shape,y.shape)"
   ]
  },
  {
   "cell_type": "code",
   "execution_count": 45,
   "id": "0d575bc5",
   "metadata": {},
   "outputs": [
    {
     "name": "stdout",
     "output_type": "stream",
     "text": [
      "---Successfully processed numeric column(s)\n",
      "  Customer Type  Customer Age  Child Age  Last Website Visit  Last App visit  \\\n",
      "0     Returning      0.604651   0.000000            0.639386        0.640106   \n",
      "1     Returning      0.604651   0.555556            0.075448        0.041169   \n",
      "2     Returning      0.627907   0.777778            0.424552        0.466135   \n",
      "3      Newcomer      0.395349   0.222222            0.948849        0.988048   \n",
      "4      Newcomer      0.325581   0.222222            0.035806        0.055777   \n",
      "\n",
      "   Latest Satisfaction Rating  Total Transactions Made  \\\n",
      "0                         0.5                 0.133333   \n",
      "1                         1.0                 0.400000   \n",
      "2                         1.0                 0.133333   \n",
      "3                         1.0                 0.733333   \n",
      "4                         0.5                 0.000000   \n",
      "\n",
      "   Time Spent on App in Minutes(Yearly)  \n",
      "0                              0.148279  \n",
      "1                              0.373282  \n",
      "2                              0.167119  \n",
      "3                              0.593899  \n",
      "4                              0.013841  \n",
      "---Successfully processed categorical column(s)\n",
      "   Customer Age  Child Age  Last Website Visit  Last App visit  \\\n",
      "0      0.604651   0.000000            0.639386        0.640106   \n",
      "1      0.604651   0.555556            0.075448        0.041169   \n",
      "2      0.627907   0.777778            0.424552        0.466135   \n",
      "3      0.395349   0.222222            0.948849        0.988048   \n",
      "4      0.325581   0.222222            0.035806        0.055777   \n",
      "\n",
      "   Latest Satisfaction Rating  Total Transactions Made  \\\n",
      "0                         0.5                 0.133333   \n",
      "1                         1.0                 0.400000   \n",
      "2                         1.0                 0.133333   \n",
      "3                         1.0                 0.733333   \n",
      "4                         0.5                 0.000000   \n",
      "\n",
      "   Time Spent on App in Minutes(Yearly)  Customer Type_Newcomer  \\\n",
      "0                              0.148279                       0   \n",
      "1                              0.373282                       0   \n",
      "2                              0.167119                       0   \n",
      "3                              0.593899                       1   \n",
      "4                              0.013841                       1   \n",
      "\n",
      "   Customer Type_Returning  Customer Type_Subscribed  \n",
      "0                        1                         0  \n",
      "1                        1                         0  \n",
      "2                        1                         0  \n",
      "3                        0                         0  \n",
      "4                        0                         0  \n"
     ]
    }
   ],
   "source": [
    "### Pre-process data\n",
    "def preprocess_data(X):\n",
    "    # for numerical columns\n",
    "    # ---------------------\n",
    "    # we normalize using MinMaxScaler to constrain values between 0 and 1\n",
    "\n",
    "    scaler = MinMaxScaler(feature_range = (0,1))\n",
    "    df_numeric = X.select_dtypes(include=[np.number, np.float64])\n",
    "    numeric_cols = df_numeric.columns.values\n",
    "\n",
    "    for col in numeric_cols:\n",
    "        # fit_transform() of scaler can be applied to each column individually\n",
    "        X[col] = scaler.fit_transform(X[[col]])\n",
    "        \n",
    "    print(\"---Successfully processed numeric column(s)\")\n",
    "    print(X.head(5))\n",
    "    \n",
    "    # for categorical columns\n",
    "    # -----------------------\n",
    "    # we convert the column into one-hot encoding\n",
    "    df_categorical = X.select_dtypes(exclude=[np.number, np.float64])\n",
    "    categorical_cols = df_categorical.columns.values\n",
    "    \n",
    "    # the function get_dummies() (from pandas) creates one-hot encoding\n",
    "    X = pd.get_dummies(X,columns=categorical_cols)\n",
    "           \n",
    "    print(\"---Successfully processed categorical column(s)\")\n",
    "    print(X.head(5))\n",
    "        \n",
    "    return X\n",
    "\n",
    "# execute preprocess_data()\n",
    "#--------------------------\n",
    "X = preprocess_data(X)"
   ]
  },
  {
   "cell_type": "code",
   "execution_count": 46,
   "id": "dd51961c",
   "metadata": {},
   "outputs": [
    {
     "name": "stdout",
     "output_type": "stream",
     "text": [
      "(800, 10) (200, 10) (800,) (200,)\n"
     ]
    }
   ],
   "source": [
    "# Split feature and label sets to train and data sets - 80-20\n",
    "# random_state is desirable for reproducibility\n",
    "# stratify - to keep the same proportion of (yes and no) as input dataset\n",
    "\n",
    "X_train, X_test, y_train, y_test = train_test_split(X, y, test_size = 0.2, random_state = 10, stratify = y)\n",
    "print(X_train.shape, X_test.shape, y_train.shape, y_test.shape)"
   ]
  },
  {
   "cell_type": "code",
   "execution_count": 47,
   "id": "03da4355",
   "metadata": {},
   "outputs": [],
   "source": [
    "# create a logistic regression classifier\n",
    "# ---------------------------------------\n",
    "logreg = LogisticRegression(solver='liblinear', random_state=7)\n",
    "logreg.fit(X_train, y_train)\n",
    "\n",
    "# Apply the model on the test data to get a prediction\n",
    "# ----------------------------------------------------\n",
    "y_pred = logreg.predict(X_test)"
   ]
  },
  {
   "cell_type": "code",
   "execution_count": 48,
   "id": "6503c380",
   "metadata": {},
   "outputs": [
    {
     "name": "stdout",
     "output_type": "stream",
     "text": [
      "Testing accuracy 0.985\n",
      "              precision    recall  f1-score   support\n",
      "\n",
      "       False       0.98      1.00      0.99       197\n",
      "        True       0.00      0.00      0.00         3\n",
      "\n",
      "    accuracy                           0.98       200\n",
      "   macro avg       0.49      0.50      0.50       200\n",
      "weighted avg       0.97      0.98      0.98       200\n",
      "\n"
     ]
    },
    {
     "name": "stderr",
     "output_type": "stream",
     "text": [
      "c:\\Users\\Beatrice\\anaconda3\\lib\\site-packages\\sklearn\\metrics\\_classification.py:1248: UndefinedMetricWarning: Precision and F-score are ill-defined and being set to 0.0 in labels with no predicted samples. Use `zero_division` parameter to control this behavior.\n",
      "  _warn_prf(average, modifier, msg_start, len(result))\n",
      "c:\\Users\\Beatrice\\anaconda3\\lib\\site-packages\\sklearn\\metrics\\_classification.py:1248: UndefinedMetricWarning: Precision and F-score are ill-defined and being set to 0.0 in labels with no predicted samples. Use `zero_division` parameter to control this behavior.\n",
      "  _warn_prf(average, modifier, msg_start, len(result))\n",
      "c:\\Users\\Beatrice\\anaconda3\\lib\\site-packages\\sklearn\\metrics\\_classification.py:1248: UndefinedMetricWarning: Precision and F-score are ill-defined and being set to 0.0 in labels with no predicted samples. Use `zero_division` parameter to control this behavior.\n",
      "  _warn_prf(average, modifier, msg_start, len(result))\n"
     ]
    },
    {
     "data": {
      "image/png": "[encoded data removed]",
      "text/plain": [
       "<Figure size 432x288 with 2 Axes>"
      ]
     },
     "metadata": {
      "needs_background": "light"
     },
     "output_type": "display_data"
    }
   ],
   "source": [
    "# Get accuracy of the model\n",
    "# -------------------------\n",
    "print('Testing accuracy %s' % accuracy_score(y_test, y_pred))\n",
    "\n",
    "# compute confusion matrix\n",
    "# ------------------------\n",
    "labels = [True,False]\n",
    "cm = confusion_matrix(y_test, y_pred, labels=labels)\n",
    "disp = ConfusionMatrixDisplay(confusion_matrix=cm,display_labels=labels)\n",
    "disp.plot()\n",
    "\n",
    "# look at the value for both 'yes' and 'no' class, the model can predict 'no' better than 'yes' \n",
    "print(classification_report(y_test, y_pred))"
   ]
  },
  {
   "cell_type": "code",
   "execution_count": 49,
   "id": "c95931f5",
   "metadata": {},
   "outputs": [
    {
     "name": "stdout",
     "output_type": "stream",
     "text": [
      "Num Features: 3\n",
      "Selected Features: [False False  True False False  True  True False False False]\n",
      "Feature Ranking: [5 7 1 4 6 1 1 8 2 3]\n"
     ]
    }
   ],
   "source": [
    "# Recursive Feature Elimination (or RFE)\n",
    "# --------------------------------------\n",
    "# Works by recursively removing attributes and building a model \n",
    "# on those attributes that remain.\n",
    "rfe = RFE(logreg, n_features_to_select=3)\n",
    "fit = rfe.fit(X, y)\n",
    "\n",
    "print(\"Num Features: %d\" % fit.n_features_)\n",
    "print(\"Selected Features: %s\" % fit.support_)\n",
    "print(\"Feature Ranking: %s\" % fit.ranking_)"
   ]
  },
  {
   "cell_type": "code",
   "execution_count": 50,
   "id": "3cc35e6d",
   "metadata": {},
   "outputs": [
    {
     "name": "stdout",
     "output_type": "stream",
     "text": [
      "['Last Website Visit' 'Total Transactions Made'\n",
      " 'Time Spent on App in Minutes(Yearly)']\n"
     ]
    }
   ],
   "source": [
    "selected = fit.support_\n",
    "# get the top-3 feature_names\n",
    "feature_names = X.columns\n",
    "\n",
    "# put your code here\n",
    "# ------------------\n",
    "\n",
    "print(feature_names.to_numpy()[selected])"
   ]
  },
  {
   "cell_type": "code",
   "execution_count": null,
   "id": "f781e75c",
   "metadata": {},
   "outputs": [],
   "source": []
  }
 ],
 "metadata": {
  "kernelspec": {
   "display_name": "Python 3 (ipykernel)",
   "language": "python",
   "name": "python3"
  },
  "language_info": {
   "codemirror_mode": {
    "name": "ipython",
    "version": 3
   },
   "file_extension": ".py",
   "mimetype": "text/x-python",
   "name": "python",
   "nbconvert_exporter": "python",
   "pygments_lexer": "ipython3",
   "version": "3.9.7"
  }
 },
 "nbformat": 4,
 "nbformat_minor": 5
}
